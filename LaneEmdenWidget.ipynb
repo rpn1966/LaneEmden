{
  "nbformat": 4,
  "nbformat_minor": 0,
  "metadata": {
    "colab": {
      "name": "LaneEmdenWidget.ipynb",
      "provenance": [],
      "authorship_tag": "ABX9TyMxIkRdznPr+QH5p1tHToT6",
      "include_colab_link": true
    },
    "kernelspec": {
      "name": "python3",
      "display_name": "Python 3"
    },
    "widgets": {
      "application/vnd.jupyter.widget-state+json": {
        "63c90c77d39d4540915532db8d1ac409": {
          "model_module": "@jupyter-widgets/controls",
          "model_name": "VBoxModel",
          "state": {
            "_view_name": "VBoxView",
            "_dom_classes": [
              "widget-interact"
            ],
            "_model_name": "VBoxModel",
            "_view_module": "@jupyter-widgets/controls",
            "_model_module_version": "1.5.0",
            "_view_count": null,
            "_view_module_version": "1.5.0",
            "box_style": "",
            "layout": "IPY_MODEL_1e4ec213b78441e8ab55f9ea93d1eecb",
            "_model_module": "@jupyter-widgets/controls",
            "children": [
              "IPY_MODEL_56436f34608749d280b49e99ea93aaf3",
              "IPY_MODEL_0354f51dd91647879b08bda032161e49",
              "IPY_MODEL_b302901408a34edd884f3c191aa861db",
              "IPY_MODEL_edeac676b86a4c8aa17259c8df1b4fed",
              "IPY_MODEL_c4f5037fbd934b5b934c86603c83033d"
            ]
          }
        },
        "1e4ec213b78441e8ab55f9ea93d1eecb": {
          "model_module": "@jupyter-widgets/base",
          "model_name": "LayoutModel",
          "state": {
            "_view_name": "LayoutView",
            "grid_template_rows": null,
            "right": null,
            "justify_content": null,
            "_view_module": "@jupyter-widgets/base",
            "overflow": null,
            "_model_module_version": "1.2.0",
            "_view_count": null,
            "flex_flow": null,
            "width": null,
            "min_width": null,
            "border": null,
            "align_items": null,
            "bottom": null,
            "_model_module": "@jupyter-widgets/base",
            "top": null,
            "grid_column": null,
            "overflow_y": null,
            "overflow_x": null,
            "grid_auto_flow": null,
            "grid_area": null,
            "grid_template_columns": null,
            "flex": null,
            "_model_name": "LayoutModel",
            "justify_items": null,
            "grid_row": null,
            "max_height": null,
            "align_content": null,
            "visibility": null,
            "align_self": null,
            "height": null,
            "min_height": null,
            "padding": null,
            "grid_auto_rows": null,
            "grid_gap": null,
            "max_width": null,
            "order": null,
            "_view_module_version": "1.2.0",
            "grid_template_areas": null,
            "object_position": null,
            "object_fit": null,
            "grid_auto_columns": null,
            "margin": null,
            "display": null,
            "left": null
          }
        },
        "56436f34608749d280b49e99ea93aaf3": {
          "model_module": "@jupyter-widgets/controls",
          "model_name": "DropdownModel",
          "state": {
            "_options_labels": [
              "0",
              "1.0",
              "1.5",
              "2.0",
              "3.0",
              "3.3",
              "4.0",
              "5.0"
            ],
            "_view_name": "DropdownView",
            "style": "IPY_MODEL_f6c0109cbf844a3bae06d4a52da8b1d6",
            "_dom_classes": [],
            "description": "n",
            "_model_name": "DropdownModel",
            "index": 5,
            "_view_module": "@jupyter-widgets/controls",
            "_model_module_version": "1.5.0",
            "_view_count": null,
            "disabled": false,
            "_view_module_version": "1.5.0",
            "description_tooltip": null,
            "_model_module": "@jupyter-widgets/controls",
            "layout": "IPY_MODEL_349d2f2b8b124e55b517a43eef032bfb"
          }
        },
        "0354f51dd91647879b08bda032161e49": {
          "model_module": "@jupyter-widgets/controls",
          "model_name": "DropdownModel",
          "state": {
            "_options_labels": [
              "0.1",
              "0.5",
              "1.0",
              "2.0",
              "5.0"
            ],
            "_view_name": "DropdownView",
            "style": "IPY_MODEL_808812742bf64a4cbfe24e2ac33b489f",
            "_dom_classes": [],
            "description": "Mstar",
            "_model_name": "DropdownModel",
            "index": 2,
            "_view_module": "@jupyter-widgets/controls",
            "_model_module_version": "1.5.0",
            "_view_count": null,
            "disabled": false,
            "_view_module_version": "1.5.0",
            "description_tooltip": null,
            "_model_module": "@jupyter-widgets/controls",
            "layout": "IPY_MODEL_e6cdd228a97543fc853e3ea16db79bd9"
          }
        },
        "b302901408a34edd884f3c191aa861db": {
          "model_module": "@jupyter-widgets/controls",
          "model_name": "DropdownModel",
          "state": {
            "_options_labels": [
              "0.1",
              "0.5",
              "1.0",
              "2.0",
              "5.0"
            ],
            "_view_name": "DropdownView",
            "style": "IPY_MODEL_8f8d1a7a2ce7429ba4c2b2d671bada8c",
            "_dom_classes": [],
            "description": "Rstar",
            "_model_name": "DropdownModel",
            "index": 2,
            "_view_module": "@jupyter-widgets/controls",
            "_model_module_version": "1.5.0",
            "_view_count": null,
            "disabled": false,
            "_view_module_version": "1.5.0",
            "description_tooltip": null,
            "_model_module": "@jupyter-widgets/controls",
            "layout": "IPY_MODEL_875d41b43f98452abe6ef97cd1599777"
          }
        },
        "edeac676b86a4c8aa17259c8df1b4fed": {
          "model_module": "@jupyter-widgets/controls",
          "model_name": "ButtonModel",
          "state": {
            "_view_name": "ButtonView",
            "style": "IPY_MODEL_1364e67c1276457281ac673bdde72751",
            "_dom_classes": [],
            "description": "Run Interact",
            "_model_name": "ButtonModel",
            "button_style": "",
            "_view_module": "@jupyter-widgets/controls",
            "_model_module_version": "1.5.0",
            "tooltip": "",
            "_view_count": null,
            "disabled": false,
            "_view_module_version": "1.5.0",
            "layout": "IPY_MODEL_97d89edd273a49709464a58cba420f50",
            "_model_module": "@jupyter-widgets/controls",
            "icon": ""
          }
        },
        "c4f5037fbd934b5b934c86603c83033d": {
          "model_module": "@jupyter-widgets/output",
          "model_name": "OutputModel",
          "state": {
            "_view_name": "OutputView",
            "msg_id": "",
            "_dom_classes": [],
            "_model_name": "OutputModel",
            "outputs": [
              {
                "output_type": "stream",
                "metadata": {
                  "tags": []
                },
                "text": "\nThe value of xi_1 =  8.290915066464652\nThe value of (dtheta/dxi)_1 =  -0.02817266348292761\n\n",
                "stream": "stdout"
              },
              {
                "output_type": "display_data",
                "metadata": {
                  "tags": [],
                  "needs_background": "light"
                },
                "image/png": "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\n",
                "text/plain": "<Figure size 720x252 with 3 Axes>"
              },
              {
                "output_type": "display_data",
                "metadata": {
                  "tags": [],
                  "needs_background": "light"
                },
                "image/png": "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\n",
                "text/plain": "<Figure size 1008x252 with 4 Axes>"
              }
            ],
            "_view_module": "@jupyter-widgets/output",
            "_model_module_version": "1.0.0",
            "_view_count": null,
            "_view_module_version": "1.0.0",
            "layout": "IPY_MODEL_f7caa24cea6b47ed90ba90955674d5aa",
            "_model_module": "@jupyter-widgets/output"
          }
        },
        "f6c0109cbf844a3bae06d4a52da8b1d6": {
          "model_module": "@jupyter-widgets/controls",
          "model_name": "DescriptionStyleModel",
          "state": {
            "_view_name": "StyleView",
            "_model_name": "DescriptionStyleModel",
            "description_width": "",
            "_view_module": "@jupyter-widgets/base",
            "_model_module_version": "1.5.0",
            "_view_count": null,
            "_view_module_version": "1.2.0",
            "_model_module": "@jupyter-widgets/controls"
          }
        },
        "349d2f2b8b124e55b517a43eef032bfb": {
          "model_module": "@jupyter-widgets/base",
          "model_name": "LayoutModel",
          "state": {
            "_view_name": "LayoutView",
            "grid_template_rows": null,
            "right": null,
            "justify_content": null,
            "_view_module": "@jupyter-widgets/base",
            "overflow": null,
            "_model_module_version": "1.2.0",
            "_view_count": null,
            "flex_flow": null,
            "width": null,
            "min_width": null,
            "border": null,
            "align_items": null,
            "bottom": null,
            "_model_module": "@jupyter-widgets/base",
            "top": null,
            "grid_column": null,
            "overflow_y": null,
            "overflow_x": null,
            "grid_auto_flow": null,
            "grid_area": null,
            "grid_template_columns": null,
            "flex": null,
            "_model_name": "LayoutModel",
            "justify_items": null,
            "grid_row": null,
            "max_height": null,
            "align_content": null,
            "visibility": null,
            "align_self": null,
            "height": null,
            "min_height": null,
            "padding": null,
            "grid_auto_rows": null,
            "grid_gap": null,
            "max_width": null,
            "order": null,
            "_view_module_version": "1.2.0",
            "grid_template_areas": null,
            "object_position": null,
            "object_fit": null,
            "grid_auto_columns": null,
            "margin": null,
            "display": null,
            "left": null
          }
        },
        "808812742bf64a4cbfe24e2ac33b489f": {
          "model_module": "@jupyter-widgets/controls",
          "model_name": "DescriptionStyleModel",
          "state": {
            "_view_name": "StyleView",
            "_model_name": "DescriptionStyleModel",
            "description_width": "",
            "_view_module": "@jupyter-widgets/base",
            "_model_module_version": "1.5.0",
            "_view_count": null,
            "_view_module_version": "1.2.0",
            "_model_module": "@jupyter-widgets/controls"
          }
        },
        "e6cdd228a97543fc853e3ea16db79bd9": {
          "model_module": "@jupyter-widgets/base",
          "model_name": "LayoutModel",
          "state": {
            "_view_name": "LayoutView",
            "grid_template_rows": null,
            "right": null,
            "justify_content": null,
            "_view_module": "@jupyter-widgets/base",
            "overflow": null,
            "_model_module_version": "1.2.0",
            "_view_count": null,
            "flex_flow": null,
            "width": null,
            "min_width": null,
            "border": null,
            "align_items": null,
            "bottom": null,
            "_model_module": "@jupyter-widgets/base",
            "top": null,
            "grid_column": null,
            "overflow_y": null,
            "overflow_x": null,
            "grid_auto_flow": null,
            "grid_area": null,
            "grid_template_columns": null,
            "flex": null,
            "_model_name": "LayoutModel",
            "justify_items": null,
            "grid_row": null,
            "max_height": null,
            "align_content": null,
            "visibility": null,
            "align_self": null,
            "height": null,
            "min_height": null,
            "padding": null,
            "grid_auto_rows": null,
            "grid_gap": null,
            "max_width": null,
            "order": null,
            "_view_module_version": "1.2.0",
            "grid_template_areas": null,
            "object_position": null,
            "object_fit": null,
            "grid_auto_columns": null,
            "margin": null,
            "display": null,
            "left": null
          }
        },
        "8f8d1a7a2ce7429ba4c2b2d671bada8c": {
          "model_module": "@jupyter-widgets/controls",
          "model_name": "DescriptionStyleModel",
          "state": {
            "_view_name": "StyleView",
            "_model_name": "DescriptionStyleModel",
            "description_width": "",
            "_view_module": "@jupyter-widgets/base",
            "_model_module_version": "1.5.0",
            "_view_count": null,
            "_view_module_version": "1.2.0",
            "_model_module": "@jupyter-widgets/controls"
          }
        },
        "875d41b43f98452abe6ef97cd1599777": {
          "model_module": "@jupyter-widgets/base",
          "model_name": "LayoutModel",
          "state": {
            "_view_name": "LayoutView",
            "grid_template_rows": null,
            "right": null,
            "justify_content": null,
            "_view_module": "@jupyter-widgets/base",
            "overflow": null,
            "_model_module_version": "1.2.0",
            "_view_count": null,
            "flex_flow": null,
            "width": null,
            "min_width": null,
            "border": null,
            "align_items": null,
            "bottom": null,
            "_model_module": "@jupyter-widgets/base",
            "top": null,
            "grid_column": null,
            "overflow_y": null,
            "overflow_x": null,
            "grid_auto_flow": null,
            "grid_area": null,
            "grid_template_columns": null,
            "flex": null,
            "_model_name": "LayoutModel",
            "justify_items": null,
            "grid_row": null,
            "max_height": null,
            "align_content": null,
            "visibility": null,
            "align_self": null,
            "height": null,
            "min_height": null,
            "padding": null,
            "grid_auto_rows": null,
            "grid_gap": null,
            "max_width": null,
            "order": null,
            "_view_module_version": "1.2.0",
            "grid_template_areas": null,
            "object_position": null,
            "object_fit": null,
            "grid_auto_columns": null,
            "margin": null,
            "display": null,
            "left": null
          }
        },
        "1364e67c1276457281ac673bdde72751": {
          "model_module": "@jupyter-widgets/controls",
          "model_name": "ButtonStyleModel",
          "state": {
            "_view_name": "StyleView",
            "_model_name": "ButtonStyleModel",
            "_view_module": "@jupyter-widgets/base",
            "_model_module_version": "1.5.0",
            "_view_count": null,
            "button_color": null,
            "font_weight": "",
            "_view_module_version": "1.2.0",
            "_model_module": "@jupyter-widgets/controls"
          }
        },
        "97d89edd273a49709464a58cba420f50": {
          "model_module": "@jupyter-widgets/base",
          "model_name": "LayoutModel",
          "state": {
            "_view_name": "LayoutView",
            "grid_template_rows": null,
            "right": null,
            "justify_content": null,
            "_view_module": "@jupyter-widgets/base",
            "overflow": null,
            "_model_module_version": "1.2.0",
            "_view_count": null,
            "flex_flow": null,
            "width": null,
            "min_width": null,
            "border": null,
            "align_items": null,
            "bottom": null,
            "_model_module": "@jupyter-widgets/base",
            "top": null,
            "grid_column": null,
            "overflow_y": null,
            "overflow_x": null,
            "grid_auto_flow": null,
            "grid_area": null,
            "grid_template_columns": null,
            "flex": null,
            "_model_name": "LayoutModel",
            "justify_items": null,
            "grid_row": null,
            "max_height": null,
            "align_content": null,
            "visibility": null,
            "align_self": null,
            "height": null,
            "min_height": null,
            "padding": null,
            "grid_auto_rows": null,
            "grid_gap": null,
            "max_width": null,
            "order": null,
            "_view_module_version": "1.2.0",
            "grid_template_areas": null,
            "object_position": null,
            "object_fit": null,
            "grid_auto_columns": null,
            "margin": null,
            "display": null,
            "left": null
          }
        },
        "f7caa24cea6b47ed90ba90955674d5aa": {
          "model_module": "@jupyter-widgets/base",
          "model_name": "LayoutModel",
          "state": {
            "_view_name": "LayoutView",
            "grid_template_rows": null,
            "right": null,
            "justify_content": null,
            "_view_module": "@jupyter-widgets/base",
            "overflow": null,
            "_model_module_version": "1.2.0",
            "_view_count": null,
            "flex_flow": null,
            "width": null,
            "min_width": null,
            "border": null,
            "align_items": null,
            "bottom": null,
            "_model_module": "@jupyter-widgets/base",
            "top": null,
            "grid_column": null,
            "overflow_y": null,
            "overflow_x": null,
            "grid_auto_flow": null,
            "grid_area": null,
            "grid_template_columns": null,
            "flex": null,
            "_model_name": "LayoutModel",
            "justify_items": null,
            "grid_row": null,
            "max_height": null,
            "align_content": null,
            "visibility": null,
            "align_self": null,
            "height": null,
            "min_height": null,
            "padding": null,
            "grid_auto_rows": null,
            "grid_gap": null,
            "max_width": null,
            "order": null,
            "_view_module_version": "1.2.0",
            "grid_template_areas": null,
            "object_position": null,
            "object_fit": null,
            "grid_auto_columns": null,
            "margin": null,
            "display": null,
            "left": null
          }
        }
      }
    }
  },
  "cells": [
    {
      "cell_type": "markdown",
      "metadata": {
        "id": "view-in-github",
        "colab_type": "text"
      },
      "source": [
        "<a href=\"https://colab.research.google.com/github/rpn1966/LaneEmden/blob/main/LaneEmdenWidget.ipynb\" target=\"_parent\"><img src=\"https://colab.research.google.com/assets/colab-badge.svg\" alt=\"Open In Colab\"/></a>"
      ]
    },
    {
      "cell_type": "code",
      "metadata": {
        "id": "BzzgLVPvw_WB",
        "outputId": "31195747-dfde-4e94-9913-aadb7ce7a51d",
        "colab": {
          "base_uri": "https://localhost:8080/",
          "height": 119
        }
      },
      "source": [
        "!git clone https://github.com/rpn1966/LaneEmden.git"
      ],
      "execution_count": 1,
      "outputs": [
        {
          "output_type": "stream",
          "text": [
            "Cloning into 'LaneEmden'...\n",
            "remote: Enumerating objects: 9, done.\u001b[K\n",
            "remote: Counting objects: 100% (9/9), done.\u001b[K\n",
            "remote: Compressing objects: 100% (8/8), done.\u001b[K\n",
            "remote: Total 9 (delta 1), reused 0 (delta 0), pack-reused 0\u001b[K\n",
            "Unpacking objects: 100% (9/9), done.\n"
          ],
          "name": "stdout"
        }
      ]
    },
    {
      "cell_type": "code",
      "metadata": {
        "id": "5045BPkYJR73"
      },
      "source": [
        "#!pip install mpld3\n",
        "import numpy as np\n",
        "import matplotlib.pyplot as plt\n",
        "#import mpld3\n",
        "import ipywidgets as widgets\n",
        "from ipywidgets import HBox, VBox\n",
        "from IPython.display import display, Markdown, Latex, Math\n",
        "#mpld3.enable_notebook()"
      ],
      "execution_count": 1,
      "outputs": []
    },
    {
      "cell_type": "code",
      "metadata": {
        "id": "NrmawEPMKlHB"
      },
      "source": [
        "def plotter(x,y,n):\n",
        "  fig, axes = plt.subplots(nrows=1, ncols=3,figsize=(10,3.5))\n",
        "  axes[0].plot(x,y**n,'b-')\n",
        "  axes[0].set_title(r'$\\theta^n$ versus $\\xi$')\n",
        "  axes[0].set_xlabel(r'$\\xi$')\n",
        "  axes[0].set_ylabel(r'$\\theta^n$')\n",
        "  axes[1].plot(x,y**(n+1),'r-')\n",
        "  axes[1].set_title(r'$\\theta^{(n+1)}$ versus $\\xi$')\n",
        "  axes[1].set_xlabel(r'$\\xi$')\n",
        "  axes[1].set_ylabel(r'$\\theta^{(n+1)}$')\n",
        "  axes[2].plot(x,y,'g-')\n",
        "  axes[2].set_title(r'$\\theta$ versus $\\xi$')\n",
        "  axes[2].set_xlabel(r'$\\xi$')\n",
        "  axes[2].set_ylabel(r'$\\theta$')\n",
        "  fig.tight_layout()\n",
        "  #plt.plot(x,y,'b')\n",
        "  #plt.title(r'$\\theta$ versus $\\xi$')\n",
        "  #plt.xlabel(r'$\\xi$')\n",
        "  #plt.ylabel(r'$\\theta$')"
      ],
      "execution_count": 2,
      "outputs": []
    },
    {
      "cell_type": "code",
      "metadata": {
        "id": "Lpc55ITjc_xV"
      },
      "source": [
        "def plotter2(r,rho,P,T,L):\n",
        "  fig, axes = plt.subplots(nrows=1, ncols=4,figsize=(14,3.5))\n",
        "  axes[0].plot(r,rho,'b-')\n",
        "  axes[0].set_title(r'$\\rho$ versus $r$')\n",
        "  axes[0].set_xlabel(r'$r$')\n",
        "  axes[0].set_ylabel(r'$\\rho$')\n",
        "  axes[1].plot(r,P,'r-')\n",
        "  axes[1].set_title(r'$P$ versus $r$')\n",
        "  axes[1].set_xlabel(r'$r$')\n",
        "  axes[1].set_ylabel(r'$P$')\n",
        "  axes[2].plot(r,T,'g-')\n",
        "  axes[2].set_title(r'$T$ versus $r$')\n",
        "  axes[2].set_xlabel(r'$r$')\n",
        "  axes[2].set_ylabel(r'$T$')\n",
        "  axes[3].plot(r,L,'k-')\n",
        "  axes[3].set_title(r'$L$ versus $r$')\n",
        "  axes[3].set_xlabel(r'$r$')\n",
        "  axes[3].set_ylabel(r'$L$')\n",
        "  fig.tight_layout()"
      ],
      "execution_count": 3,
      "outputs": []
    },
    {
      "cell_type": "code",
      "metadata": {
        "id": "RCD0bbBJKDtR",
        "outputId": "c4744678-9501-4dd3-e111-aafdd82fdb3f",
        "colab": {
          "base_uri": "https://localhost:8080/",
          "height": 701,
          "referenced_widgets": [
            "63c90c77d39d4540915532db8d1ac409",
            "1e4ec213b78441e8ab55f9ea93d1eecb",
            "56436f34608749d280b49e99ea93aaf3",
            "0354f51dd91647879b08bda032161e49",
            "b302901408a34edd884f3c191aa861db",
            "edeac676b86a4c8aa17259c8df1b4fed",
            "c4f5037fbd934b5b934c86603c83033d",
            "f6c0109cbf844a3bae06d4a52da8b1d6",
            "349d2f2b8b124e55b517a43eef032bfb",
            "808812742bf64a4cbfe24e2ac33b489f",
            "e6cdd228a97543fc853e3ea16db79bd9",
            "8f8d1a7a2ce7429ba4c2b2d671bada8c",
            "875d41b43f98452abe6ef97cd1599777",
            "1364e67c1276457281ac673bdde72751",
            "97d89edd273a49709464a58cba420f50",
            "f7caa24cea6b47ed90ba90955674d5aa"
          ]
        }
      },
      "source": [
        "@widgets.interact_manual(n=[0,1.,1.5,2.,3.,3.3,4.,5.],Mstar=[0.1,0.5,1.0,2.0,5.0],Rstar=[0.1,0.5,1.0,2.0,5.0])\n",
        "def lane_emden(n,Mstar,Rstar):\n",
        "  # Define physical constants required to define the stellar models\n",
        "  Pi=np.pi\n",
        "  G=6.67E-11\n",
        "  k_B=1.38E-23\n",
        "  m_H=1.67E-27\n",
        "  mu=0.62\n",
        "  \n",
        "  # Solar values\n",
        "  Msun=1.989E30\n",
        "  Rsun=7.E8\n",
        "  Lsun2=3.86E26\n",
        "\n",
        "  #Energy generation rate for PP-chain\n",
        "  Epp0=2.6E-37\n",
        "  \n",
        "  # Define maximum number of integration points\n",
        "  Nmax=1000000\n",
        "  \n",
        "  # Ask the user to input the polytropic index, n\n",
        "  #n=float(input('Enter n, the polytrope index '))\n",
        "  \n",
        "  # Ask the user to input physical parameters of the star\n",
        "  #Rstar=float(input('Enter Rstar, the radius of the star in units of the Solar radius '))\n",
        "  #Mstar=float(input('Enter Mstar, the mass of the star in units of the Solar mass '))\n",
        "  Rstar=Rstar*Rsun     # Convert radius to physical units\n",
        "  Mstar=Mstar*Msun     # Convert mass to physical units\n",
        "  \n",
        "  # The variables are as follows \n",
        "  # Dimensionless length : xi \n",
        "  # Dimensionless density function : theta\n",
        "  # The gradient of theta wrt xi : dtheta_dxi\n",
        "  \n",
        "  # Here we define floating point arrays for xi, theta, dtheta_dxi:\n",
        "  xi=np.zeros(Nmax,dtype=np.float64)\n",
        "  theta=np.zeros(Nmax,dtype=np.float64)\n",
        "  dtheta_dxi=np.zeros(Nmax,dtype=np.float64)\n",
        "  \n",
        "  # Specify boundary conditions, and start the integration a small distance (1.E-6) \n",
        "  # away from the centre of the star (remember that starting at exactly xi=0.0 is not \n",
        "  # possible since the equations diverge there through division by zero.\n",
        "  theta[0]=1.0\n",
        "  dtheta_dxi[0]=0.0\n",
        "  xi[0]=1.E-6\n",
        "  \n",
        "  # The step size in radius is defined by dxi.\n",
        "  # The smaller the step the more accurate the calculation.\n",
        "  # And the longer it takes!\n",
        "  dxi = 1.E-3\n",
        "  \n",
        "  # We now define a variable, i, that counts the number of steps as we move out \n",
        "  # through the star. We cycle around a loop, computing the values at each \n",
        "  # radius point in the star until the value of theta becomes negative, \n",
        "  # (or until we iterate through the maximum number of grid points allowed by Nmax), \n",
        "  # at which point the integration ends and we jump out of the loop.\n",
        "  \n",
        "  i=0    # Note that i=0 corresponds to the radius point at the centre of the star\n",
        "\n",
        "  while theta[i] > 0 and i < Nmax-1:    \n",
        "    i=i+1   # Increment i during each iteration of the loop\n",
        "    \n",
        "    # Calculate the next value of dtheta_dxi at radius point i using data from i-1\n",
        "    dtheta_dxi[i]=dtheta_dxi[i-1] - ( 2.0*dtheta_dxi[i-1]/xi[i-1] + theta[i-1]**n )*dxi\n",
        "    \n",
        "    # Calculate the next value of theta[i] using the updated value of dtheta_dxi[i]\n",
        "    theta[i] = theta[i-1] + dtheta_dxi[i]*dxi \n",
        "    \n",
        "    # Increment the dimensionless radius (move out to the next radius point in the star).\n",
        "    xi[i] = xi[i-1] + dxi\n",
        "    \n",
        "    # Save the final positive value of theta and its gradient for determining the\n",
        "    # value of xi where theta=0\n",
        "    thetalast = theta[i-1]\n",
        "    dtheta_dxilast = dtheta_dxi[i-1]\n",
        "  \n",
        "  # Note we are now out of the loop as we have changed the indentation!\n",
        "  \n",
        "  # We calculate the position of the root (xi=xi_1), using the last\n",
        "  # value of theta to be computed (which  is the first value < 0, and the  \n",
        "  # previous theta value (stored as thetalast) which is the last value > 0.\n",
        "  # To find xi_1 we interpolate between the last positive value and first \n",
        "  # negative value of theta to estimate the location where theta=0.\n",
        "  # We do the same for dtheta_dxi to find the value of the gradient\n",
        "  # at the location xi=xi_1.\n",
        "  xi_1 = xi[i] + (theta[i]/(thetalast-theta[i]))*dxi\n",
        "  dtheta_dxi_1 = dtheta_dxi[i] - (xi[i]-xi_1)*(dtheta_dxi[i]-dtheta_dxilast)/dxi\n",
        "  \n",
        "  \n",
        "  print('')\n",
        "  print ('The value of xi_1 = ',xi_1) \n",
        "  print ('The value of (dtheta/dxi)_1 = ',dtheta_dxi_1)\n",
        "  print('')\n",
        "  plotter(xi[0:i-1],theta[0:i-1],n)\n",
        "  \n",
        "  \n",
        "  a_n = -xi_1/3.*1.0/dtheta_dxi_1\n",
        "  b_n = 1.0/((n+1)*xi_1*(-dtheta_dxi_1))\n",
        "  c_n = 1.0/(4*Pi*(n+1.)*(-dtheta_dxi_1)**2)\n",
        "  rho_c = a_n*3.0*Mstar/(4.*Pi*Rstar**3)\n",
        "  T_c = b_n*G*Mstar*mu*m_H/(Rstar*k_B)\n",
        "  P_c = c_n*G*Mstar**2/Rstar**4\n",
        "\n",
        "  # We need to know the value of K, the polytropic constant, \n",
        "  # to convert values of the variable xi to radius values in\n",
        "  # physical units since r=alpha*xi, and alpha depends on K\n",
        "  K = (4.*Pi)**(1./n)*G/(n+1)*xi_1**(-(n+1.)/n)*(-dtheta_dxi_1)**((1.-n)/n)*Mstar**((n-1.)/n)*Rstar**((3.-n)/n)\n",
        "  \n",
        "  # Now calculate how density, pressure, temperature, luminosity\n",
        "  # vary with radius\n",
        "  Lsum=np.zeros(i-1)\n",
        "  alpha=np.sqrt((n+1.)*K*rho_c**(1./n-1.)/(4.0*Pi*G))\n",
        "  dr=dxi*alpha\n",
        "  r=alpha*xi[0:i-1]\n",
        "  rho=rho_c*theta[0:i-1]**n\n",
        "  Pres=P_c*theta[0:i-1]**(n+1.)\n",
        "  Temp=T_c*theta[0:i-1]\n",
        "  # Each shell generates a local contribution to the luminosity from PP-chain\n",
        "  L=4.*Pi*r**2*dr*Epp0*rho**2*Temp**4.\n",
        "  # Sum the luminosities from all shells to get total luminosity\n",
        "  Lsum[0]=4.*Pi/3.*r[0]**3*Epp0*rho[0]**2*Temp[0]**4\n",
        "  for j in range(1,i-1):\n",
        "    Lsum[j]=L[j]+Lsum[j-1]\n",
        "  \n",
        "  plotter2(r,rho,Pres,Temp,Lsum)\n",
        "\n",
        "\n",
        "  #plt.plot(xi[0:i-1],theta[0:i-1],'b-')\n",
        "  #plt.title(r'$\\theta$ versus $\\xi$')\n",
        "  #print('')\n",
        "  #display(Latex(r'\\mathrm{\\mathbf{The \\, value \\, of} \\, \\xi_1 \\, \\mathbf{is:}}'), xi_1)\n",
        "  #print('')\n",
        "  #display(Latex(r'\\mathrm{\\mathbf{The \\, value \\, of} \\, \\left(\\frac{d\\theta}{d \\xi}\\right)_{\\xi_1} \\, \\mathbf{is:}}'),dtheta_dxi_1)\n",
        "\n"
      ],
      "execution_count": 4,
      "outputs": [
        {
          "output_type": "display_data",
          "data": {
            "application/vnd.jupyter.widget-view+json": {
              "model_id": "63c90c77d39d4540915532db8d1ac409",
              "version_minor": 0,
              "version_major": 2
            },
            "text/plain": [
              "interactive(children=(Dropdown(description='n', options=(0, 1.0, 1.5, 2.0, 3.0, 3.3, 4.0, 5.0), value=0), Drop…"
            ]
          },
          "metadata": {
            "tags": []
          }
        }
      ]
    },
    {
      "cell_type": "code",
      "metadata": {
        "id": "fNq_mHwtrdU9",
        "outputId": "ed575f82-84ab-4ec5-927a-1528b723849a",
        "colab": {
          "base_uri": "https://localhost:8080/",
          "height": 261
        }
      },
      "source": [
        "Ms,Rs,Ts,rhos,Ps,Ls,XH,YHe,YHe3,ZC12,ZN14,ZO16=np.loadtxt('LaneEmden/bs05op.dat',skiprows=24,unpack=True)\n",
        "rhos=rhos*1000.\n",
        "Ps=Ps/10.\n",
        "plotter2(Rs,rhos,Ps,Ts,Ls)"
      ],
      "execution_count": 5,
      "outputs": [
        {
          "output_type": "display_data",
          "data": {
            "image/png": "[encoded data removed]",
            "text/plain": [
              "<Figure size 1008x252 with 4 Axes>"
            ]
          },
          "metadata": {
            "tags": [],
            "needs_background": "light"
          }
        }
      ]
    },
    {
      "cell_type": "code",
      "metadata": {
        "id": "Kw8IzUPBr7AG",
        "outputId": "c349e2ae-366d-4e86-9777-140d47c5230e",
        "colab": {
          "base_uri": "https://localhost:8080/",
          "height": 51
        }
      },
      "source": [
        "print(Ms)"
      ],
      "execution_count": 18,
      "outputs": [
        {
          "output_type": "stream",
          "text": [
            "[5.000000e-07 6.000000e-07 7.000000e-07 ... 9.999888e-01 9.999892e-01\n",
            " 9.999897e-01]\n"
          ],
          "name": "stdout"
        }
      ]
    }
  ]
}